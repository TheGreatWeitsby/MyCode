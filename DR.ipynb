{
 "cells": [
  {
   "cell_type": "code",
   "execution_count": 1,
   "metadata": {},
   "outputs": [],
   "source": [
    "import numpy as np\n",
    "import pandas as pd\n",
    "import matplotlib as plt"
   ]
  },
  {
   "cell_type": "code",
   "execution_count": 5,
   "metadata": {},
   "outputs": [],
   "source": [
    "from pythermalcomfort.models import pmv_ppd\n",
    "from pythermalcomfort.utilities import v_relative, clo_dynamic\n",
    "from pythermalcomfort.utilities import met_typical_tasks\n",
    "from pythermalcomfort.utilities import clo_individual_garments\n",
    "lst_tdb = np.array([22,23,24,25,26,27,28,29])  # dry bulb air temperature, [$^{\\circ}$C]\n",
    "tr = 25  # mean radiant temperature, [$^{\\circ}$C]\n",
    "v = 0.3  # average air speed, [m/s]\n",
    "rh = 60  # relative humidity, [%]\n",
    "activity = \"Typing\"  # participant's activity description\n",
    "garments = [\"Sweatpants\", \"T-shirt\", \"Shoes or sandals\"]\n",
    "\n",
    "met = met_typical_tasks[activity]  # activity met, [met]\n",
    "icl = sum(\n",
    "    [clo_individual_garments[item] for item in garments]\n",
    ")  # calculate total clothing insulation\n",
    "\n",
    "# calculate the relative air velocity\n",
    "vr = v_relative(v=v, met=met)\n",
    "# calculate the dynamic clothing insulation\n",
    "clo = clo_dynamic(clo=icl, met=met)\n",
    "\n",
    "# calculate PMV in accordance with the ASHRAE 55 2020\n",
    "results = []\n",
    "for tdb in lst_tdb:\n",
    "    results.append(pmv_ppd(tdb=tdb, tr=tr, vr=vr, rh=rh, met=met, clo=clo, standard=\"ASHRAE\"))\n"
   ]
  },
  {
   "cell_type": "code",
   "execution_count": 176,
   "metadata": {},
   "outputs": [],
   "source": [
    "T = 5 # demand response time (h)\n",
    "N = 5 # the building consisting of N floors\n",
    "Population = np.zeros((N,T))\n",
    "for i in range(N):\n",
    "    for j in range(T):\n",
    "        Population[i,j] = 70*(i+1) - 5*j # population distribution in the building\n",
    "to = np.array([20+i for i in range(T)]) # outdoor air temperature"
   ]
  },
  {
   "cell_type": "code",
   "execution_count": 177,
   "metadata": {},
   "outputs": [
    {
     "name": "stdout",
     "output_type": "stream",
     "text": [
      "Model unknown\n",
      "\n",
      "  Variables:\n",
      "    deltaTset : Size=25, Index=deltaTset_index\n",
      "        Key    : Lower : Value              : Upper : Fixed : Stale : Domain\n",
      "        (0, 0) :    -3 :               -3.0 :     0 : False : False :  Reals\n",
      "        (0, 1) :    -3 :               -3.0 :     0 : False : False :  Reals\n",
      "        (0, 2) :    -3 :               -3.0 :     0 : False : False :  Reals\n",
      "        (0, 3) :    -3 :               -3.0 :     0 : False : False :  Reals\n",
      "        (0, 4) :    -3 :               -3.0 :     0 : False : False :  Reals\n",
      "        (1, 0) :    -3 :               -3.0 :     0 : False : False :  Reals\n",
      "        (1, 1) :    -3 :               -3.0 :     0 : False : False :  Reals\n",
      "        (1, 2) :    -3 :               -3.0 :     0 : False : False :  Reals\n",
      "        (1, 3) :    -3 :               -3.0 :     0 : False : False :  Reals\n",
      "        (1, 4) :    -3 :               -3.0 :     0 : False : False :  Reals\n",
      "        (2, 0) :    -3 :               -3.0 :     0 : False : False :  Reals\n",
      "        (2, 1) :    -3 :               -3.0 :     0 : False : False :  Reals\n",
      "        (2, 2) :    -3 :               -3.0 :     0 : False : False :  Reals\n",
      "        (2, 3) :    -3 :               -3.0 :     0 : False : False :  Reals\n",
      "        (2, 4) :    -3 :               -3.0 :     0 : False : False :  Reals\n",
      "        (3, 0) :    -3 :                0.0 :     0 : False : False :  Reals\n",
      "        (3, 1) :    -3 :                0.0 :     0 : False : False :  Reals\n",
      "        (3, 2) :    -3 :                0.0 :     0 : False : False :  Reals\n",
      "        (3, 3) :    -3 : -1.999999099205912 :     0 : False : False :  Reals\n",
      "        (3, 4) :    -3 :               -3.0 :     0 : False : False :  Reals\n",
      "        (4, 0) :    -3 :                0.0 :     0 : False : False :  Reals\n",
      "        (4, 1) :    -3 :                0.0 :     0 : False : False :  Reals\n",
      "        (4, 2) :    -3 :                0.0 :     0 : False : False :  Reals\n",
      "        (4, 3) :    -3 :                0.0 :     0 : False : False :  Reals\n",
      "        (4, 4) :    -3 :                0.0 :     0 : False : False :  Reals\n",
      "\n",
      "  Objectives:\n",
      "    obj : Size=1, Index=None, Active=True\n",
      "        Key  : Active : Value\n",
      "        None :   True : 7159.999761289567\n",
      "\n",
      "  Constraints:\n",
      "    con1 : Size=1\n",
      "        Key  : Lower : Body                : Upper\n",
      "        None :  None : -49.999999099205915 : -50.0\n"
     ]
    }
   ],
   "source": [
    "from pyomo.environ import * \n",
    "modelA = ConcreteModel()\n",
    "DRdemand = -50\n",
    "# declare dicision variables\n",
    "modelA.T = RangeSet(0,T-1)\n",
    "modelA.N = RangeSet(0,N-1)\n",
    "modelA.deltaTset=Var(modelA.N, modelA.T, domain = Reals, initialize=-1, bounds=(-3,0))\n",
    "# modelA.deltaTset.pprint()\n",
    "\n",
    "# declare constraints\n",
    "modelA.con1 = Constraint(expr= sum(modelA.deltaTset[i,j] for i in range(N) for j in range(T) ) <= DRdemand)\n",
    "\n",
    "#declare objective function\n",
    "def ComfortLoss(model):\n",
    "    \"\"\"\n",
    "    calculate the comfort loss matrix\n",
    "    \"\"\"\n",
    "    loss = sum( Population[i,j] * model.deltaTset[i,j] for i in range(N) for j in range(T) )\n",
    "    return abs(loss)\n",
    "modelA.obj = Objective(rule = ComfortLoss, sense=minimize)\n",
    "\n",
    "# modelA.pprint()\n",
    "SolverFactory('ipopt').solve(modelA)\n",
    "modelA.display()\n"
   ]
  }
 ],
 "metadata": {
  "kernelspec": {
   "display_name": "Python 3.9.7 ('base')",
   "language": "python",
   "name": "python3"
  },
  "language_info": {
   "codemirror_mode": {
    "name": "ipython",
    "version": 3
   },
   "file_extension": ".py",
   "mimetype": "text/x-python",
   "name": "python",
   "nbconvert_exporter": "python",
   "pygments_lexer": "ipython3",
   "version": "3.9.7"
  },
  "orig_nbformat": 4,
  "vscode": {
   "interpreter": {
    "hash": "bb3ab1c869250a006548da3f3948134c613d99ece87200a41ef05fe751948255"
   }
  }
 },
 "nbformat": 4,
 "nbformat_minor": 2
}
