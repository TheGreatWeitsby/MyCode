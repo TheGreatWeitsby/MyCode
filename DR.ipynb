{
 "cells": [
  {
   "cell_type": "code",
   "execution_count": 24,
   "metadata": {},
   "outputs": [],
   "source": [
    "import numpy as np\n",
    "import pandas as pd\n",
    "import matplotlib as plt"
   ]
  },
  {
   "cell_type": "code",
   "execution_count": null,
   "metadata": {},
   "outputs": [],
   "source": [
    "from pythermalcomfort.models import pmv_ppd\n",
    "from pythermalcomfort.utilities import v_relative, clo_dynamic\n",
    "from pythermalcomfort.utilities import met_typical_tasks\n",
    "from pythermalcomfort.utilities import clo_individual_garments"
   ]
  },
  {
   "cell_type": "code",
   "execution_count": null,
   "metadata": {},
   "outputs": [],
   "source": [
    "tdb = 27  # dry bulb air temperature, [$^{\\circ}$C]\n",
    "tr = 25  # mean radiant temperature, [$^{\\circ}$C]\n",
    "v = 0.3  # average air speed, [m/s]\n",
    "rh = 50  # relative humidity, [%]\n",
    "activity = \"Typing\"  # participant's activity description\n",
    "garments = [\"Sweatpants\", \"T-shirt\", \"Shoes or sandals\"]\n",
    "\n",
    "met = met_typical_tasks[activity]  # activity met, [met]\n",
    "icl = sum(\n",
    "    [clo_individual_garments[item] for item in garments]\n",
    ")  # calculate total clothing insulation\n",
    "\n",
    "# calculate the relative air velocity\n",
    "vr = v_relative(v=v, met=met)\n",
    "# calculate the dynamic clothing insulation\n",
    "clo = clo_dynamic(clo=icl, met=met)\n",
    "\n",
    "# calculate PMV in accordance with the ASHRAE 55 2020\n",
    "results = pmv_ppd(tdb=tdb, tr=tr, vr=vr, rh=rh, met=met, clo=clo, standard=\"ASHRAE\")"
   ]
  },
  {
   "cell_type": "code",
   "execution_count": 25,
   "metadata": {},
   "outputs": [],
   "source": [
    "T = 5 # demand response time (h)\n",
    "N = 3 # the building consisting of N floors\n",
    "Population = np.random.randint(30, 100, size=(N, T)) # population distribution in the building\n",
    "DRdemand = 100 # DR demand during the response time (kWh)\n",
    "to = np.random.randint(20, 30, size=(T,1)) # outdoor air temperature"
   ]
  },
  {
   "cell_type": "code",
   "execution_count": 26,
   "metadata": {},
   "outputs": [],
   "source": [
    "def deltaTset_DR(deltaTset, population, to):\n",
    "    \"\"\"\n",
    "    calculate the DRpotential matrix\n",
    "    \"\"\"\n",
    "    DRpotential = np.zeros((N, T))\n",
    "    for i in range(N):\n",
    "        for j in range(T):\n",
    "            DRpotential[i][j] = deltaTset[i][j] * (population[i][j]) * (to[j]+10)\n",
    "    return DRpotential\n",
    "\n",
    "# res = deltaTset_DR(np.full((N,T), -2), Population, np.random.randint(25,30, size = (T,1)))"
   ]
  },
  {
   "cell_type": "code",
   "execution_count": 28,
   "metadata": {},
   "outputs": [
    {
     "ename": "KeyError",
     "evalue": "\"Index '0' is not valid for indexed component 'deltaTset'\"",
     "output_type": "error",
     "traceback": [
      "\u001b[1;31m---------------------------------------------------------------------------\u001b[0m",
      "\u001b[1;31mKeyError\u001b[0m                                  Traceback (most recent call last)",
      "\u001b[1;32m~\\AppData\\Local\\Temp/ipykernel_24052/2740552544.py\u001b[0m in \u001b[0;36m<module>\u001b[1;34m\u001b[0m\n\u001b[0;32m     18\u001b[0m \u001b[1;32mfor\u001b[0m \u001b[0mi\u001b[0m \u001b[1;32min\u001b[0m \u001b[0mrange\u001b[0m\u001b[1;33m(\u001b[0m\u001b[1;36m0\u001b[0m\u001b[1;33m,\u001b[0m \u001b[0mN\u001b[0m\u001b[1;33m)\u001b[0m\u001b[1;33m:\u001b[0m\u001b[1;33m\u001b[0m\u001b[1;33m\u001b[0m\u001b[0m\n\u001b[0;32m     19\u001b[0m     \u001b[1;32mfor\u001b[0m \u001b[0mj\u001b[0m \u001b[1;32min\u001b[0m \u001b[0mrange\u001b[0m\u001b[1;33m(\u001b[0m\u001b[1;36m1\u001b[0m\u001b[1;33m,\u001b[0m \u001b[0mT\u001b[0m\u001b[1;33m)\u001b[0m\u001b[1;33m:\u001b[0m\u001b[1;33m\u001b[0m\u001b[1;33m\u001b[0m\u001b[0m\n\u001b[1;32m---> 20\u001b[1;33m         \u001b[0mmodelA\u001b[0m\u001b[1;33m.\u001b[0m\u001b[0mcons\u001b[0m\u001b[1;33m.\u001b[0m\u001b[0madd\u001b[0m\u001b[1;33m(\u001b[0m\u001b[0mdeltaTset_range\u001b[0m\u001b[1;33m(\u001b[0m\u001b[0mmodelA\u001b[0m\u001b[1;33m)\u001b[0m\u001b[1;33m)\u001b[0m\u001b[1;33m\u001b[0m\u001b[1;33m\u001b[0m\u001b[0m\n\u001b[0m\u001b[0;32m     21\u001b[0m \u001b[1;33m\u001b[0m\u001b[0m\n\u001b[0;32m     22\u001b[0m \u001b[0mmodelA\u001b[0m\u001b[1;33m.\u001b[0m\u001b[0mcons\u001b[0m\u001b[1;33m.\u001b[0m\u001b[0madd\u001b[0m\u001b[1;33m(\u001b[0m\u001b[0mtotalDRdemand\u001b[0m\u001b[1;33m(\u001b[0m\u001b[0mmodelA\u001b[0m\u001b[1;33m)\u001b[0m\u001b[1;33m)\u001b[0m\u001b[1;33m\u001b[0m\u001b[1;33m\u001b[0m\u001b[0m\n",
      "\u001b[1;32m~\\AppData\\Local\\Temp/ipykernel_24052/2740552544.py\u001b[0m in \u001b[0;36mdeltaTset_range\u001b[1;34m(model)\u001b[0m\n\u001b[0;32m     12\u001b[0m     \u001b[1;32mreturn\u001b[0m \u001b[0mdeltaTset_DR\u001b[0m\u001b[1;33m(\u001b[0m\u001b[0mmodelA\u001b[0m\u001b[1;33m.\u001b[0m\u001b[0mdeltaTset\u001b[0m\u001b[1;33m,\u001b[0m \u001b[0mPopulation\u001b[0m\u001b[1;33m,\u001b[0m \u001b[0mto\u001b[0m\u001b[1;33m)\u001b[0m\u001b[1;33m.\u001b[0m\u001b[0msum\u001b[0m\u001b[1;33m(\u001b[0m\u001b[1;33m)\u001b[0m \u001b[1;33m>=\u001b[0m \u001b[0mDRdemand\u001b[0m\u001b[1;33m\u001b[0m\u001b[1;33m\u001b[0m\u001b[0m\n\u001b[0;32m     13\u001b[0m \u001b[1;32mdef\u001b[0m \u001b[0mdeltaTset_range\u001b[0m\u001b[1;33m(\u001b[0m\u001b[0mmodel\u001b[0m\u001b[1;33m)\u001b[0m\u001b[1;33m:\u001b[0m\u001b[1;33m\u001b[0m\u001b[1;33m\u001b[0m\u001b[0m\n\u001b[1;32m---> 14\u001b[1;33m     \u001b[1;32mreturn\u001b[0m \u001b[1;33m(\u001b[0m\u001b[1;33m-\u001b[0m\u001b[1;36m3\u001b[0m\u001b[1;33m,\u001b[0m \u001b[0mmodel\u001b[0m\u001b[1;33m.\u001b[0m\u001b[0mdeltaTset\u001b[0m\u001b[1;33m[\u001b[0m\u001b[0mi\u001b[0m\u001b[1;33m]\u001b[0m\u001b[1;33m[\u001b[0m\u001b[0mj\u001b[0m\u001b[1;33m]\u001b[0m\u001b[1;33m,\u001b[0m \u001b[1;36m3\u001b[0m\u001b[1;33m)\u001b[0m\u001b[1;33m\u001b[0m\u001b[1;33m\u001b[0m\u001b[0m\n\u001b[0m\u001b[0;32m     15\u001b[0m \u001b[1;33m\u001b[0m\u001b[0m\n\u001b[0;32m     16\u001b[0m \u001b[0mmodelA\u001b[0m\u001b[1;33m.\u001b[0m\u001b[0mcons\u001b[0m \u001b[1;33m=\u001b[0m \u001b[0mConstraintList\u001b[0m\u001b[1;33m(\u001b[0m\u001b[1;33m)\u001b[0m\u001b[1;33m\u001b[0m\u001b[1;33m\u001b[0m\u001b[0m\n",
      "\u001b[1;32mh:\\Anaconda\\lib\\site-packages\\pyomo\\core\\base\\indexed_component.py\u001b[0m in \u001b[0;36m__getitem__\u001b[1;34m(self, index)\u001b[0m\n\u001b[0;32m    554\u001b[0m             \u001b[1;32mif\u001b[0m \u001b[0mindex\u001b[0m\u001b[1;33m.\u001b[0m\u001b[0m__class__\u001b[0m \u001b[1;32mis\u001b[0m \u001b[0mEXPR\u001b[0m\u001b[1;33m.\u001b[0m\u001b[0mGetItemExpression\u001b[0m\u001b[1;33m:\u001b[0m\u001b[1;33m\u001b[0m\u001b[1;33m\u001b[0m\u001b[0m\n\u001b[0;32m    555\u001b[0m                 \u001b[1;32mreturn\u001b[0m \u001b[0mindex\u001b[0m\u001b[1;33m\u001b[0m\u001b[1;33m\u001b[0m\u001b[0m\n\u001b[1;32m--> 556\u001b[1;33m             \u001b[0mvalidated_index\u001b[0m \u001b[1;33m=\u001b[0m \u001b[0mself\u001b[0m\u001b[1;33m.\u001b[0m\u001b[0m_validate_index\u001b[0m\u001b[1;33m(\u001b[0m\u001b[0mindex\u001b[0m\u001b[1;33m)\u001b[0m\u001b[1;33m\u001b[0m\u001b[1;33m\u001b[0m\u001b[0m\n\u001b[0m\u001b[0;32m    557\u001b[0m             \u001b[1;32mif\u001b[0m \u001b[0mvalidated_index\u001b[0m \u001b[1;32mis\u001b[0m \u001b[1;32mnot\u001b[0m \u001b[0mindex\u001b[0m\u001b[1;33m:\u001b[0m\u001b[1;33m\u001b[0m\u001b[1;33m\u001b[0m\u001b[0m\n\u001b[0;32m    558\u001b[0m                 \u001b[0mindex\u001b[0m \u001b[1;33m=\u001b[0m \u001b[0mvalidated_index\u001b[0m\u001b[1;33m\u001b[0m\u001b[1;33m\u001b[0m\u001b[0m\n",
      "\u001b[1;32mh:\\Anaconda\\lib\\site-packages\\pyomo\\core\\base\\indexed_component.py\u001b[0m in \u001b[0;36m_validate_index\u001b[1;34m(self, idx)\u001b[0m\n\u001b[0;32m    779\u001b[0m         \u001b[1;31m# Raise an exception\u001b[0m\u001b[1;33m\u001b[0m\u001b[1;33m\u001b[0m\u001b[0m\n\u001b[0;32m    780\u001b[0m         \u001b[1;31m#\u001b[0m\u001b[1;33m\u001b[0m\u001b[1;33m\u001b[0m\u001b[0m\n\u001b[1;32m--> 781\u001b[1;33m         raise KeyError(\n\u001b[0m\u001b[0;32m    782\u001b[0m             \u001b[1;34m\"Index '%s' is not valid for indexed component '%s'\"\u001b[0m\u001b[1;33m\u001b[0m\u001b[1;33m\u001b[0m\u001b[0m\n\u001b[0;32m    783\u001b[0m             % ( idx, self.name, ))\n",
      "\u001b[1;31mKeyError\u001b[0m: \"Index '0' is not valid for indexed component 'deltaTset'\""
     ]
    }
   ],
   "source": [
    "from pyomo.environ import * \n",
    "modelA = ConcreteModel()\n",
    "\n",
    "# declare dicision variables\n",
    "modelA.deltaTset=Var([N,T],domain = Reals)\n",
    "# modelA.deltaTset = Set(dimen = 2)\n",
    "# declare objective function\n",
    "modelA.comfortloss=Var(RangeSet(N-1,T-1),domain = Reals)\n",
    "\n",
    "# declare constraints\n",
    "def totalDRdemand(model):\n",
    "    return deltaTset_DR(modelA.deltaTset, Population, to).sum() >= DRdemand\n",
    "def deltaTset_range(model):\n",
    "    return (-3, model.deltaTset[i][j], 3)\n",
    "\n",
    "modelA.cons = ConstraintList()\n",
    "\n",
    "for i in range(0, N):\n",
    "    for j in range(1, T):\n",
    "        modelA.cons.add(deltaTset_range(modelA))\n",
    "\n",
    "modelA.cons.add(totalDRdemand(modelA))\n",
    "\n",
    "def ComfortLoss(model):\n",
    "    \"\"\"\n",
    "    calculate the comfort loss matrix\n",
    "    \"\"\"\n",
    "    loss = np.zeros((N, T))\n",
    "    for i in range(N):\n",
    "        for j in range(T):\n",
    "            loss[i][j] = model.deltaTset[i][j]\n",
    "            loss[i][j] *= Population[i][j]\n",
    "    return loss.sum()\n",
    "\n",
    "\n",
    "modelA.obj = Objective(expr = ComfortLoss(modelA))\n",
    "\n",
    "modelA.pprint()"
   ]
  }
 ],
 "metadata": {
  "kernelspec": {
   "display_name": "Python 3.9.7 ('base')",
   "language": "python",
   "name": "python3"
  },
  "language_info": {
   "codemirror_mode": {
    "name": "ipython",
    "version": 3
   },
   "file_extension": ".py",
   "mimetype": "text/x-python",
   "name": "python",
   "nbconvert_exporter": "python",
   "pygments_lexer": "ipython3",
   "version": "3.9.7"
  },
  "orig_nbformat": 4,
  "vscode": {
   "interpreter": {
    "hash": "bb3ab1c869250a006548da3f3948134c613d99ece87200a41ef05fe751948255"
   }
  }
 },
 "nbformat": 4,
 "nbformat_minor": 2
}
